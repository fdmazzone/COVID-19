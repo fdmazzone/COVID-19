{
 "cells": [
  {
   "cell_type": "markdown",
   "metadata": {},
   "source": [
    "<h1> Primer Experimento </h1>\n",
    "\n",
    "El siguiente código descarga datos actuales de la enfermedad los almacena en archivos csv e intenta ajustar los parametros de un modelo SIRD a los datos.\n",
    "\n",
    "**Problema 1:** En la base de datos de internet no hay datos de Estados Unidos.\n",
    "\n",
    "**Problema 2:** Todavía el ajuste no encuentra el óptimo. Desconozco la causa, a ojo se encuentra mejores elecciones que las encontradas por el programa.\n",
    "\n",
    "**Problema 3:** Mas del proceso de modelización. Las soluciones del modelo SIRD parece tener una forma que no se corresponde con los datos de la realidad. En el sentido que la duración de la epidemia parece más corta en los modelos."
   ]
  },
  {
   "cell_type": "code",
   "execution_count": 1,
   "metadata": {},
   "outputs": [],
   "source": [
    "import numpy as np\n",
    "from scipy.integrate import odeint \n",
    "import matplotlib.pyplot as plt"
   ]
  },
  {
   "cell_type": "markdown",
   "metadata": {},
   "source": [
    "<h2> Buscando datos de la enfermedad </h2>\n",
    "\n",
    "Sitio: https://data.humdata.org/dataset/novel-coronavirus-2019-ncov-cases"
   ]
  },
  {
   "cell_type": "code",
   "execution_count": 2,
   "metadata": {},
   "outputs": [],
   "source": [
    "import requests"
   ]
  },
  {
   "cell_type": "code",
   "execution_count": 3,
   "metadata": {},
   "outputs": [],
   "source": [
    "################################################################\n",
    "###  Descarga datos actuales de internet  desde John Hopskins###\n",
    "####  Cambiar la variable MiDirectorio con el directorio que se desaea trabajar\n",
    "\n",
    "MiDirectorio='/home/fernando/fer/Investigación/Trabajo en curso/corona/'\n",
    "\n",
    "\n",
    "urlb='https://data.humdata.org/hxlproxy/api/data-preview.csv?url=https%3A%2F%2Fraw.githubusercontent.com%2FCSSEGISandData%2FCOVID-19%2Fmaster%2Fcsse_covid_19_data%2Fcsse_covid_19_time_series%2F'\n",
    "url1 = 'time_series_covid19_confirmed_global.csv&filename=time_series_covid19_confirmed_global.csv'\n",
    "url2 = 'time_series_covid19_deaths_global.csv&filename=time_series_covid19_deaths_global.csv'\n",
    "url3 = 'time_series_covid19_recovered_global.csv&filename=time_series_covid19_recovered_global.csv'\n",
    "\n",
    "\n",
    "myfile = requests.get(urlb+url1)\n",
    "open(MiDirectorio+'DataConfirmados.csv', 'wb').write(myfile.content)\n",
    "\n",
    "myfile = requests.get(urlb+url2)\n",
    "open(MiDirectorio+'DataMuertos.csv', 'wb').write(myfile.content)\n",
    "\n",
    "myfile = requests.get(urlb+url3)\n",
    "open(MiDirectorio+'DataRecuperados.csv', 'wb').write(myfile.content)"
   ]
  },
  {
   "cell_type": "code",
   "execution_count": 4,
   "metadata": {},
   "outputs": [],
   "source": [
    "############Para leer datos descargados\n",
    "import csv"
   ]
  },
  {
   "cell_type": "code",
   "execution_count": 5,
   "metadata": {},
   "outputs": [],
   "source": [
    "\n",
    "### Los primeros 4 items de la fila son vacio,\n",
    "### nombre del país, lat, long. No los usamos\n",
    "### OJO: en los datos de la tabla hay valores acumulados de infectados, en los modelos\n",
    "### cuentan los  infectados activos \n",
    "### Infectados Activos= Infectados Acumulados-(muertos+recuperados)\n",
    "\n",
    "### S_data,I_data,M_data,R_data=ExtraerDatos(IndPais,Poblacion)\n",
    "### IndPais = Fila del pais-región\n",
    "### Poblacion=Total de habitantes\n",
    "### S_data,I_data,M_data,R_data Datos de Susceptibles, infecciosos, muertes y recuperados\n",
    "\n",
    "\n",
    "def ExtraerDatos(IndPais,Poblacion):\n",
    "    ListI=[]\n",
    "    with open('DataConfirmados.csv') as csvfile:\n",
    "        reader = csv.reader(csvfile)\n",
    "        for row in reader:\n",
    "            ListI.append(row)\n",
    "    ListM=[]\n",
    "    with open('DataMuertos.csv') as csvfile:\n",
    "        reader = csv.reader(csvfile)\n",
    "        for row in reader:\n",
    "            ListM.append(row)\n",
    "    ListR=[]\n",
    "    with open('DataRecuperados.csv') as csvfile:\n",
    "        reader = csv.reader(csvfile)\n",
    "        for row in reader:\n",
    "            ListR.append(row)\n",
    "    I_data_acum=np.array([float(i) for i in ListI[IndPais][5:]])\n",
    "    M_data=np.array([float(i) for i in ListM[IndPais][5:]])\n",
    "    R_data=np.array([float(i) for i in ListR[IndPais][5:]])\n",
    "\n",
    "    I_data=I_data_acum-(M_data+R_data)\n",
    "    S_data=PoblacionArg-I_data_acum #S=Poblacion-Infectados Acumulados\n",
    "\n",
    "    #Extraemos datos desde el comienzo de la epidemia\n",
    "    Ind=I_data_acum>0\n",
    "    I_data=I_data[Ind]\n",
    "    M_data=M_data[Ind]\n",
    "    R_data=R_data[Ind]\n",
    "    S_data=S_data[Ind]\n",
    "    return S_data,I_data,M_data,R_data\n",
    "\n",
    "### Argentina es la fila 7 de las tablas \n",
    "PoblacionArg=44.49e6  #Segun wikipedia\n",
    "IndArg=7\n",
    "\n",
    "S_data,I_data,M_data,R_data=ExtraerDatos(IndArg,PoblacionArg)\n"
   ]
  },
  {
   "cell_type": "code",
   "execution_count": 6,
   "metadata": {},
   "outputs": [
    {
     "data": {
      "text/plain": [
       "[<matplotlib.lines.Line2D at 0x7f0018db3250>,\n",
       " <matplotlib.lines.Line2D at 0x7f0018db3750>,\n",
       " <matplotlib.lines.Line2D at 0x7f0018db3b90>]"
      ]
     },
     "execution_count": 6,
     "metadata": {},
     "output_type": "execute_result"
    },
    {
     "data": {
      "image/png": "[encoded data removed]",
      "text/plain": [
       "<Figure size 432x288 with 1 Axes>"
      ]
     },
     "metadata": {
      "needs_background": "light"
     },
     "output_type": "display_data"
    }
   ],
   "source": [
    "plt.plot(I_data,'^',M_data,'p',R_data,'o')"
   ]
  },
  {
   "cell_type": "markdown",
   "metadata": {},
   "source": [
    "<h2> Modelo SIRD </h2>\n",
    "\n",
    "<b> Bibliografía </b>\n",
    "\n",
    "[BCF2019] \"Mathematical Models in Epidemiology\", Fred Brauer and Carlos Castillo-Chavez and Zhilan Feng, ISBN: 978-14-9399-828-9, Springer Nature,2019.\n",
    "\n",
    "**Modelo**\n",
    "\n",
    "SIRD Susceptibles-Infectados-Recuperados y Muertos por la enfermedad\n",
    "ver sección 2.5 de [BCF2019]\n",
    "\n",
    "$$\n",
    "\\begin{aligned}\n",
    "&S^{\\prime}=-\\beta S I\\\\\n",
    "&I^{\\prime}=\\beta S I-(\\alpha+d) I\\\\\n",
    "&R^{\\prime}=\\alpha I\n",
    "\\end{aligned}\n",
    "$$\n",
    "Sólo es necesario modelar las primeras dos ecuaciones"
   ]
  },
  {
   "cell_type": "code",
   "execution_count": 7,
   "metadata": {},
   "outputs": [],
   "source": [
    "def SIRD(Y,t,alpha,beta,d):\n",
    "    S,I=Y\n",
    "    dSdt=-beta*S*I\n",
    "    dIdt=beta*S*I-(alpha+d)*I\n",
    "    return dSdt,dIdt\n",
    "####### Resolvemos el modelos\n",
    "def ModeTeor(t,alpha,beta,d,y0):\n",
    "    sol = odeint(SIRD,y0 ,t, args=(alpha,beta,d))\n",
    "    return sol"
   ]
  },
  {
   "cell_type": "code",
   "execution_count": 8,
   "metadata": {},
   "outputs": [
    {
     "data": {
      "image/png": "[encoded data removed]",
      "text/plain": [
       "<Figure size 432x288 with 1 Axes>"
      ]
     },
     "metadata": {
      "needs_background": "light"
     },
     "output_type": "display_data"
    }
   ],
   "source": [
    "##########Ejemplo################\n",
    "########## Plaga Eyam, peste bubónica ver seccion 2.4 de [BCF2019]\n",
    "####alpha=2.73, beta=0.017, d=0\n",
    "##En realidad hay defiunsiones, se computan con R\n",
    "\n",
    "Y0=[254,7]\n",
    "t = np.linspace(0,30, 1000)\n",
    "argus=(2.73, 0.017,0)\n",
    "\n",
    "sol = odeint(SIRD,Y0 ,t, args=argus)\n",
    "S,I=sol[:,0],sol[:,1]\n",
    "plt.plot(t,I)\n",
    "plt.show()"
   ]
  },
  {
   "cell_type": "markdown",
   "metadata": {},
   "source": [
    "<h2> Ajuste de los parámetros </h2>\n",
    "\n",
    "Usaremos el submódulo de optimizacion de la librería SciPy"
   ]
  },
  {
   "cell_type": "code",
   "execution_count": 9,
   "metadata": {},
   "outputs": [],
   "source": [
    "import scipy.optimize\n"
   ]
  },
  {
   "cell_type": "code",
   "execution_count": 10,
   "metadata": {},
   "outputs": [],
   "source": [
    "def HallarParametros(t,S_data,I_data,Poblacion,rangos):\n",
    "    def error_Mod(param):\n",
    "        alpha,R0,d=param\n",
    "        beta=alpha*R0/Poblacion\n",
    "        y0=S_data[0],I_data[0] #Condicion Inicial\n",
    "        Sol=ModeTeor(t,alpha,beta,d,y0)\n",
    "        I=Sol[:,1]\n",
    "        S=Sol[:,0]\n",
    "        return max(np.abs(I_data-I))#+max(np.abs(S_data-S))\n",
    "\n",
    "    ## Usaremos la búsqueda de un mínimo global mediate fuerzar bruta, \n",
    "    ## Busqueda en todo el rango\n",
    "\n",
    "    \n",
    "    para_opt=scipy.optimize.brute(error_Mod,rangos,finish=None)\n",
    "    #para_opt= scipy.optimize.basinhopping(error_Mod, (1/30.0,2.0,.02))\n",
    "    #para_opt= scipy.optimize.minimize(error_Mod,(1/30.0,2.0,.02),method='L-BFGS-B', bounds=rangos)\n",
    "    return para_opt\n",
    "\n",
    "\n",
    "\n",
    "\n"
   ]
  },
  {
   "cell_type": "markdown",
   "metadata": {},
   "source": [
    "<h2> Experimento 1. Argentina </h2>"
   ]
  },
  {
   "cell_type": "code",
   "execution_count": 11,
   "metadata": {},
   "outputs": [
    {
     "data": {
      "text/plain": [
       "array([0.14105263, 2.10526316, 0.00336842])"
      ]
     },
     "execution_count": 11,
     "metadata": {},
     "output_type": "execute_result"
    }
   ],
   "source": [
    "### Italia es la fila 7 de las tablas \n",
    "PoblacionArg=44.49e6  #Segun wikipedia\n",
    "IndArg=7\n",
    "S_data,I_data,M_data,R_data=ExtraerDatos(IndArg,PoblacionArg)   \n",
    "t=np.arange(0,np.shape(I_data)[0],1)\n",
    "#rangos = (slice(1/30.0,1/5.0,0.001), slice(1, 4, 0.1), slice(0.001,0.01,.001))\n",
    "rangos=(1.0/25.0,1/5.0), (1.0, 4.0), (0.001,0.01)\n",
    "para_opt=HallarParametros(t,S_data,I_data,PoblacionArg,rangos)\n",
    "para_opt"
   ]
  },
  {
   "cell_type": "code",
   "execution_count": 12,
   "metadata": {},
   "outputs": [
    {
     "data": {
      "text/plain": [
       "1188.9588161350252"
      ]
     },
     "execution_count": 12,
     "metadata": {},
     "output_type": "execute_result"
    },
    {
     "data": {
      "image/png": "[encoded data removed]",
      "text/plain": [
       "<Figure size 432x288 with 1 Axes>"
      ]
     },
     "metadata": {
      "needs_background": "light"
     },
     "output_type": "display_data"
    }
   ],
   "source": [
    "alpha,R0,d=para_opt\n",
    "beta=R0/PoblacionArg*alpha\n",
    "y0=S_data[0],I_data[0] #Condicion Inicial\n",
    "Sol=ModeTeor(t, alpha,beta,d,y0)\n",
    "I=Sol[:,1]\n",
    "S=Sol[:,0]\n",
    "plt.plot(t,I ,t,I_data,'o')\n",
    "max(np.abs(I_data-I))"
   ]
  },
  {
   "cell_type": "markdown",
   "metadata": {},
   "source": [
    "<h2> Conclusiones </h2>\n",
    "\n",
    "El ajuste es muy malo, el valor de $\\alpha\\approx .2$ es poco realista. **El modelo no se ajusta a la observación**\n",
    "\n",
    "Analizando otros países también descubrí que el algorítmo en realidad no está encontrando los parámetros óptimos.\n"
   ]
  }
 ],
 "metadata": {
  "kernelspec": {
   "display_name": "Python 2",
   "language": "python",
   "name": "python2"
  },
  "language_info": {
   "codemirror_mode": {
    "name": "ipython",
    "version": 2
   },
   "file_extension": ".py",
   "mimetype": "text/x-python",
   "name": "python",
   "nbconvert_exporter": "python",
   "pygments_lexer": "ipython2",
   "version": "2.7.15"
  }
 },
 "nbformat": 4,
 "nbformat_minor": 2
}
