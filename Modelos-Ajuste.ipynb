{
 "cells": [
  {
   "cell_type": "markdown",
   "metadata": {},
   "source": [
    "<h1> Ajuste de modelos a pandemia COVID-19</h1>\n",
    "\n",
    "El siguiente código descarga datos actuales de la enfermedad los almacena en archivos csv e intenta ajustar los parametros de un modelo SIRD a los datos.\n",
    "\n",
    "**Problema 1:** En la base de datos de internet no hay datos de Estados Unidos.\n",
    "\n",
    "\n",
    "**Problema 3:** Mas del proceso de modelización. Las soluciones del modelo SIRD parece tener una forma que no se corresponde con los datos de la realidad. En el sentido que la duración de la epidemia parece más corta en los modelos."
   ]
  },
  {
   "cell_type": "code",
   "execution_count": 1,
   "metadata": {},
   "outputs": [],
   "source": [
    "import numpy as np\n",
    "from scipy.integrate import odeint \n",
    "import matplotlib.pyplot as plt"
   ]
  },
  {
   "cell_type": "markdown",
   "metadata": {},
   "source": [
    "<h2> Buscando datos de la enfermedad </h2>\n",
    "\n",
    "Sitio: https://data.humdata.org/dataset/novel-coronavirus-2019-ncov-cases"
   ]
  },
  {
   "cell_type": "code",
   "execution_count": 2,
   "metadata": {},
   "outputs": [],
   "source": [
    "import requests"
   ]
  },
  {
   "cell_type": "code",
   "execution_count": 3,
   "metadata": {},
   "outputs": [],
   "source": [
    "################################################################\n",
    "###  Descarga datos actuales de internet  desde John Hopskins###\n",
    "####  Cambiar la variable MiDirectorio con el directorio que se desaea trabajar\n",
    "\n",
    "MiDirectorio='/home/fernando/fer/Investigación/Trabajo en curso/corona/'\n",
    "\n",
    "\n",
    "urlb='https://data.humdata.org/hxlproxy/api/data-preview.csv?url=https%3A%2F%2Fraw.githubusercontent.com%2FCSSEGISandData%2FCOVID-19%2Fmaster%2Fcsse_covid_19_data%2Fcsse_covid_19_time_series%2F'\n",
    "url1 = 'time_series_covid19_confirmed_global.csv&filename=time_series_covid19_confirmed_global.csv'\n",
    "url2 = 'time_series_covid19_deaths_global.csv&filename=time_series_covid19_deaths_global.csv'\n",
    "url3 = 'time_series_covid19_recovered_global.csv&filename=time_series_covid19_recovered_global.csv'\n",
    "\n",
    "\n",
    "myfile = requests.get(urlb+url1)\n",
    "open(MiDirectorio+'DataConfirmados.csv', 'wb').write(myfile.content)\n",
    "\n",
    "myfile = requests.get(urlb+url2)\n",
    "open(MiDirectorio+'DataMuertos.csv', 'wb').write(myfile.content)\n",
    "\n",
    "myfile = requests.get(urlb+url3)\n",
    "open(MiDirectorio+'DataRecuperados.csv', 'wb').write(myfile.content)"
   ]
  },
  {
   "cell_type": "code",
   "execution_count": 4,
   "metadata": {},
   "outputs": [],
   "source": [
    "############Para leer datos descargados\n",
    "import csv"
   ]
  },
  {
   "cell_type": "code",
   "execution_count": 5,
   "metadata": {},
   "outputs": [],
   "source": [
    "\n",
    "### Los primeros 4 items de la fila son vacio,\n",
    "### nombre del país, lat, long. No los usamos\n",
    "### OJO: en los datos de la tabla hay valores acumulados de infectados, en los modelos\n",
    "### cuentan los  infectados activos \n",
    "### Infectados Activos= Infectados Acumulados-(muertos+recuperados)\n",
    "\n",
    "### S_data,I_data,M_data,R_data=ExtraerDatos(IndPais,Poblacion)\n",
    "### IndPais = Fila del pais-región\n",
    "### Poblacion=Total de habitantes\n",
    "### S_data,I_data,M_data,R_data Datos de Susceptibles, infecciosos, muertes y recuperados\n",
    "\n",
    "\n",
    "def ExtraerDatos(Pais,Poblacion):\n",
    "    with open('DataConfirmados.csv') as csvfile:\n",
    "        reader = csv.reader(csvfile)\n",
    "        for row in reader:\n",
    "            if Pais in row:\n",
    "                I_data_acum=np.array([float(i) for i in row[5:]])\n",
    "    with open('DataMuertos.csv') as csvfile:\n",
    "        reader = csv.reader(csvfile)\n",
    "        for row in reader:\n",
    "            if Pais in row:\n",
    "                M_data=np.array([float(i) for i in row[5:]])\n",
    "    with open('DataRecuperados.csv') as csvfile:\n",
    "        reader = csv.reader(csvfile)\n",
    "        for row in reader:\n",
    "            if Pais in row:\n",
    "                R_data=np.array([float(i) for i in row[5:]])\n",
    "    i0=min(len(I_data_acum),len(M_data),len(R_data))\n",
    "    I0=range(i0)\n",
    "    I_data_acum=I_data_acum[I0]\n",
    "    R_data=R_data[I0]\n",
    "    M_data=M_data[I0]\n",
    "    I_data=I_data_acum-(M_data+R_data)\n",
    "    S_data=PoblacionArg-I_data_acum #S=Poblacion-Infectados Acumulados\n",
    "\n",
    "    #Extraemos datos desde el comienzo de la epidemia\n",
    "    \n",
    "    Ind=I_data_acum>0\n",
    "    I_data_acum=I_data_acum[Ind]\n",
    "    I_data=I_data[Ind]\n",
    "    M_data=M_data[Ind]\n",
    "    R_data=R_data[Ind]\n",
    "    S_data=S_data[Ind]\n",
    "    return S_data,I_data,M_data,R_data,I_data_acum\n",
    "\n",
    "### Argentina es la fila 7 de las tablas \n",
    "PoblacionArg=44.49e6  #Segun wikipedia\n",
    "IndArg=7\n",
    "\n",
    "S_data,I_data,M_data,R_data,I_data_acum=ExtraerDatos('Argentina',PoblacionArg)\n"
   ]
  },
  {
   "cell_type": "code",
   "execution_count": 6,
   "metadata": {},
   "outputs": [
    {
     "data": {
      "text/plain": [
       "[<matplotlib.lines.Line2D at 0x7f9fd70182d0>,\n",
       " <matplotlib.lines.Line2D at 0x7f9fd70187d0>,\n",
       " <matplotlib.lines.Line2D at 0x7f9fd7018c10>,\n",
       " <matplotlib.lines.Line2D at 0x7f9fd7027050>]"
      ]
     },
     "execution_count": 6,
     "metadata": {},
     "output_type": "execute_result"
    },
    {
     "data": {
      "image/png": "[encoded data removed]",
      "text/plain": [
       "<Figure size 432x288 with 1 Axes>"
      ]
     },
     "metadata": {
      "needs_background": "light"
     },
     "output_type": "display_data"
    }
   ],
   "source": [
    "plt.plot(I_data,'^',M_data,'p',R_data,'o',I_data_acum,'*')"
   ]
  },
  {
   "cell_type": "markdown",
   "metadata": {},
   "source": [
    "<h2> Modelo SIRD </h2>\n",
    "\n",
    "<b> Bibliografía </b>\n",
    "\n",
    "[BCF2019] \"Mathematical Models in Epidemiology\", Fred Brauer and Carlos Castillo-Chavez and Zhilan Feng, ISBN: 978-14-9399-828-9, Springer Nature,2019.\n",
    "\n",
    "**Modelo**\n",
    "\n",
    "SIRD Susceptibles-Infectados-Recuperados y Muertos por la enfermedad\n",
    "ver sección 2.5 de [BCF2019]\n",
    "\n",
    "$$\n",
    "\\begin{aligned}\n",
    "&S^{\\prime}=-\\beta S I\\\\\n",
    "&I^{\\prime}=\\beta S I-(\\alpha+d) I\\\\\n",
    "&R^{\\prime}=\\alpha I\n",
    "\\end{aligned}\n",
    "$$\n",
    "\n",
    "$$\\begin{aligned}\n",
    "\\frac{1}{\\alpha}&=\\text{periodo infecciosidad medio}\\\\\n",
    "\\beta&=\\text{cantidad de contactos por individuo por unidad de tiempo}\\\\\n",
    "d&=\\text{tasa de mortalidad}\\\\\n",
    "\\mathcal{R}_0&=\\frac{\\beta N}{\\alpha+d}=\\text{número reproducción básico}\\\\\n",
    "            &=\\text{Cantidad infecciones a lo largo de la vida de}\\\\\n",
    "            &\\text{un infeccioso dentro de una población de sólo susceptibles}\\\\\n",
    "\\end{aligned}\n",
    "$$\n",
    "\n",
    "\n",
    "Sólo es necesario modelar las primeras dos ecuaciones"
   ]
  },
  {
   "cell_type": "code",
   "execution_count": 7,
   "metadata": {},
   "outputs": [],
   "source": [
    "def SIRD(Y,t,alpha,beta,d):\n",
    "    S,I,R=Y\n",
    "    dSdt=-beta*S*I\n",
    "    dIdt=beta*S*I-(alpha+d)*I\n",
    "    dRdt=alpha*I\n",
    "    return dSdt,dIdt,dRdt\n",
    "####### Resolvemos el modelos\n",
    "def ModeTeor(t,alpha,beta,d,y0):\n",
    "    sol = odeint(SIRD,y0 ,t, args=(alpha,beta,d))\n",
    "    return sol"
   ]
  },
  {
   "cell_type": "code",
   "execution_count": 8,
   "metadata": {},
   "outputs": [
    {
     "data": {
      "image/png": "[encoded data removed]",
      "text/plain": [
       "<Figure size 432x288 with 1 Axes>"
      ]
     },
     "metadata": {
      "needs_background": "light"
     },
     "output_type": "display_data"
    }
   ],
   "source": [
    "##########Ejemplo################\n",
    "########## Plaga Eyam, peste bubónica ver seccion 2.4 de [BCF2019]\n",
    "####alpha=2.73, beta=0.017, d=0\n",
    "##En realidad hay defiunsiones, se computan con R\n",
    "\n",
    "Y0=[254,7,0]\n",
    "t = np.linspace(0,30, 1000)\n",
    "argus=(2.73, 0.017,0)\n",
    "\n",
    "sol = odeint(SIRD,Y0 ,t, args=argus)\n",
    "S,I=sol[:,0],sol[:,1]\n",
    "plt.plot(t,I)\n",
    "plt.show()"
   ]
  },
  {
   "cell_type": "markdown",
   "metadata": {},
   "source": [
    "<h2> Ajuste de los parámetros </h2>\n",
    "\n",
    "Usaremos el submódulo de optimizacion de la librería SciPy"
   ]
  },
  {
   "cell_type": "code",
   "execution_count": 9,
   "metadata": {},
   "outputs": [],
   "source": [
    "import scipy.optimize\n"
   ]
  },
  {
   "cell_type": "code",
   "execution_count": 10,
   "metadata": {},
   "outputs": [],
   "source": [
    "def error_Mod(x,*params):\n",
    "    alpha,R0,d=x\n",
    "    t,S_data,I_data,R_data,Poblacion=params\n",
    "    beta=(alpha+d)*R0/Poblacion\n",
    "    y0=S_data[0],I_data[0],R_data[0] #Condicion Inicial\n",
    "    Sol=ModeTeor(t,alpha,beta,d,y0)\n",
    "    I=Sol[:,1]\n",
    "    S=Sol[:,0]\n",
    "    R=Sol[:,2]\n",
    "    return max(np.abs(I_data-I))#+max(np.abs(S_data-S))\n",
    "\n",
    "def HallarParametros(t,S_data,I_data,R_data,Poblacion,rangos):\n",
    "\n",
    "    ## Usaremos la búsqueda de un mínimo global mediate fuerzar bruta, \n",
    "    ## Busqueda en todo el rango\n",
    "\n",
    "    \n",
    "    opt=scipy.optimize.brute(error_Mod,rangos,args=(t,S_data,I_data,R_data,Poblacion),finish=None,full_output=True)\n",
    "    para_opt,feval=opt[0:2]\n",
    "    #para_opt= scipy.optimize.basinhopping(error_Mod, (1/30.0,2.0,.02))\n",
    "    #para_opt= scipy.optimize.minimize(error_Mod,(1/30.0,2.0,.02),method='L-BFGS-B', bounds=rangos)\n",
    "    return para_opt,feval\n",
    "\n",
    "def AjusteEpidemia(Pais,Poblacion,*arg):\n",
    "    S_data,I_data,M_data,R_data,I_data_acum=ExtraerDatos(Pais,Poblacion)   \n",
    "    for ar in arg:\n",
    "        S_data=S_data[ar]\n",
    "        I_data=I_data[ar]\n",
    "        M_data=M_data[ar]\n",
    "        R_data=R_data[ar]\n",
    "        I_data_acum=I_data_acum[ar]\n",
    "    t=np.arange(0,np.shape(I_data)[0],1)\n",
    "    #rangos = (slice(1/30.0,1/5.0,0.001), slice(1, 4, 0.1), slice(0.001,0.01,.001))\n",
    "    rangos=(1.0/25.0,1/5.0), (1.0, 4.0), (0.001,0.01)\n",
    "    para_opt,feval=HallarParametros(t,S_data,I_data,R_data,Poblacion,rangos)\n",
    "    alpha,R0,d=para_opt\n",
    "    beta=R0/Poblacion*(alpha+d)\n",
    "    y0=S_data[0],I_data[0],R_data[0] #Condicion Inicial\n",
    "    Sol=ModeTeor(t, alpha,beta,d,y0)\n",
    "    I=Sol[:,1]\n",
    "    S=Sol[:,0]\n",
    "    R=Sol[:,2]\n",
    "    plt.plot(t,I ,t,I_data,'o')\n",
    "    print('alpha='+str(para_opt[0])+'\\n'+'R_0='+str(para_opt[1])+'\\n'+'d='+str(para_opt[2]))\n",
    "    print('Error Max='+str(feval))\n",
    "    f=lambda t: ModeTeor(t,alpha,beta,d,y0)\n",
    "    return f\n"
   ]
  },
  {
   "cell_type": "markdown",
   "metadata": {},
   "source": [
    "<h2> Experimento 1. Argentina </h2>"
   ]
  },
  {
   "cell_type": "code",
   "execution_count": 11,
   "metadata": {},
   "outputs": [
    {
     "name": "stdout",
     "output_type": "stream",
     "text": [
      "alpha=0.09894736842105263\n",
      "R_0=2.4210526315789473\n",
      "d=0.005263157894736842\n",
      "Error Max=1240.0751940312464\n"
     ]
    },
    {
     "data": {
      "image/png": "[encoded data removed]",
      "text/plain": [
       "<Figure size 432x288 with 1 Axes>"
      ]
     },
     "metadata": {
      "needs_background": "light"
     },
     "output_type": "display_data"
    }
   ],
   "source": [
    "f=AjusteEpidemia('Argentina',44.49e6)"
   ]
  },
  {
   "cell_type": "code",
   "execution_count": 12,
   "metadata": {},
   "outputs": [
    {
     "name": "stdout",
     "output_type": "stream",
     "text": [
      "alpha=0.2\n",
      "R_0=2.4210526315789473\n",
      "d=0.0024210526315789475\n",
      "Error Max=11.247812993626486\n"
     ]
    },
    {
     "data": {
      "image/png": "[encoded data removed]",
      "text/plain": [
       "<Figure size 432x288 with 1 Axes>"
      ]
     },
     "metadata": {
      "needs_background": "light"
     },
     "output_type": "display_data"
    }
   ],
   "source": [
    "f=AjusteEpidemia('Argentina',44.49e6,range(18))"
   ]
  },
  {
   "cell_type": "code",
   "execution_count": 13,
   "metadata": {},
   "outputs": [
    {
     "data": {
      "text/plain": [
       "[<matplotlib.lines.Line2D at 0x7f9fd6de1250>,\n",
       " <matplotlib.lines.Line2D at 0x7f9fd6de1310>,\n",
       " <matplotlib.lines.Line2D at 0x7f9fd6de1b10>,\n",
       " <matplotlib.lines.Line2D at 0x7f9fd6de1f10>]"
      ]
     },
     "execution_count": 13,
     "metadata": {},
     "output_type": "execute_result"
    },
    {
     "data": {
      "image/png": "[encoded data removed]",
      "text/plain": [
       "<Figure size 432x288 with 1 Axes>"
      ]
     },
     "metadata": {
      "needs_background": "light"
     },
     "output_type": "display_data"
    }
   ],
   "source": [
    "t=np.arange(0,40,1)\n",
    "Y=f(t)\n",
    "S,I,R=Y[:,0],Y[:,1],Y[:,2]\n",
    "M=44.49e6-S-I-R\n",
    "plt.plot(t,S,t,I,t,R,t,M)\n"
   ]
  },
  {
   "cell_type": "markdown",
   "metadata": {},
   "source": [
    "<h2> Experimento 2. Italia </h2>"
   ]
  },
  {
   "cell_type": "code",
   "execution_count": 14,
   "metadata": {},
   "outputs": [
    {
     "name": "stdout",
     "output_type": "stream",
     "text": [
      "alpha=0.12421052631578947\n",
      "R_0=2.7368421052631575\n",
      "d=0.003842105263157895\n",
      "Error Max=82362.38649358109\n"
     ]
    },
    {
     "data": {
      "text/plain": [
       "<function __main__.<lambda>>"
      ]
     },
     "execution_count": 14,
     "metadata": {},
     "output_type": "execute_result"
    },
    {
     "data": {
      "image/png": "[encoded data removed]",
      "text/plain": [
       "<Figure size 432x288 with 1 Axes>"
      ]
     },
     "metadata": {
      "needs_background": "light"
     },
     "output_type": "display_data"
    }
   ],
   "source": [
    "AjusteEpidemia('Italy', 60.36e6)"
   ]
  },
  {
   "cell_type": "code",
   "execution_count": 15,
   "metadata": {},
   "outputs": [
    {
     "name": "stdout",
     "output_type": "stream",
     "text": [
      "alpha=0.11578947368421053\n",
      "R_0=3.8421052631578947\n",
      "d=0.0024210526315789475\n",
      "Error Max=510.2668586983036\n"
     ]
    },
    {
     "data": {
      "text/plain": [
       "<function __main__.<lambda>>"
      ]
     },
     "execution_count": 15,
     "metadata": {},
     "output_type": "execute_result"
    },
    {
     "data": {
      "image/png": "[encoded data removed]",
      "text/plain": [
       "<Figure size 432x288 with 1 Axes>"
      ]
     },
     "metadata": {
      "needs_background": "light"
     },
     "output_type": "display_data"
    }
   ],
   "source": [
    "AjusteEpidemia('Italy', 60.36e6,range(40))"
   ]
  },
  {
   "cell_type": "markdown",
   "metadata": {},
   "source": [
    "<h2> Experimento 3. España  </h2>"
   ]
  },
  {
   "cell_type": "code",
   "execution_count": 16,
   "metadata": {},
   "outputs": [
    {
     "name": "stdout",
     "output_type": "stream",
     "text": [
      "alpha=0.08210526315789474\n",
      "R_0=2.7368421052631575\n",
      "d=0.00431578947368421\n",
      "Error Max=75811.44656779699\n"
     ]
    },
    {
     "data": {
      "text/plain": [
       "<function __main__.<lambda>>"
      ]
     },
     "execution_count": 16,
     "metadata": {},
     "output_type": "execute_result"
    },
    {
     "data": {
      "image/png": "[encoded data removed]",
      "text/plain": [
       "<Figure size 432x288 with 1 Axes>"
      ]
     },
     "metadata": {
      "needs_background": "light"
     },
     "output_type": "display_data"
    }
   ],
   "source": [
    "AjusteEpidemia('Spain', 46.94e6)"
   ]
  },
  {
   "cell_type": "code",
   "execution_count": 17,
   "metadata": {},
   "outputs": [
    {
     "name": "stdout",
     "output_type": "stream",
     "text": [
      "alpha=0.14947368421052631\n",
      "R_0=2.4210526315789473\n",
      "d=0.008105263157894737\n",
      "Error Max=1460.4920398167123\n"
     ]
    },
    {
     "data": {
      "text/plain": [
       "<function __main__.<lambda>>"
      ]
     },
     "execution_count": 17,
     "metadata": {},
     "output_type": "execute_result"
    },
    {
     "data": {
      "image/png": "[encoded data removed]",
      "text/plain": [
       "<Figure size 432x288 with 1 Axes>"
      ]
     },
     "metadata": {
      "needs_background": "light"
     },
     "output_type": "display_data"
    }
   ],
   "source": [
    "AjusteEpidemia('Spain', 46.94e6,range(50))"
   ]
  },
  {
   "cell_type": "markdown",
   "metadata": {},
   "source": [
    "<h2> Experimento 4. Brasil  </h2>"
   ]
  },
  {
   "cell_type": "code",
   "execution_count": 18,
   "metadata": {},
   "outputs": [
    {
     "name": "stdout",
     "output_type": "stream",
     "text": [
      "alpha=0.2\n",
      "R_0=1.9473684210526314\n",
      "d=0.0076315789473684215\n",
      "Error Max=18090.751140634333\n"
     ]
    },
    {
     "data": {
      "text/plain": [
       "<function __main__.<lambda>>"
      ]
     },
     "execution_count": 18,
     "metadata": {},
     "output_type": "execute_result"
    },
    {
     "data": {
      "image/png": "[encoded data removed]",
      "text/plain": [
       "<Figure size 432x288 with 1 Axes>"
      ]
     },
     "metadata": {
      "needs_background": "light"
     },
     "output_type": "display_data"
    }
   ],
   "source": [
    "AjusteEpidemia('Brazil', 46.94e6)"
   ]
  },
  {
   "cell_type": "code",
   "execution_count": 19,
   "metadata": {},
   "outputs": [
    {
     "name": "stdout",
     "output_type": "stream",
     "text": [
      "alpha=0.09052631578947368\n",
      "R_0=3.526315789473684\n",
      "d=0.00668421052631579\n",
      "Error Max=4066.1061781776416\n"
     ]
    },
    {
     "data": {
      "text/plain": [
       "<function __main__.<lambda>>"
      ]
     },
     "execution_count": 19,
     "metadata": {},
     "output_type": "execute_result"
    },
    {
     "data": {
      "image/png": "[encoded data removed]",
      "text/plain": [
       "<Figure size 432x288 with 1 Axes>"
      ]
     },
     "metadata": {
      "needs_background": "light"
     },
     "output_type": "display_data"
    }
   ],
   "source": [
    "AjusteEpidemia('Brazil', 46.94e6,range(45))"
   ]
  },
  {
   "cell_type": "markdown",
   "metadata": {},
   "source": [
    "<h2> Conclusiones </h2>\n",
    "\n",
    "Pareciera que el modelo ajusta mejor desde el día cero hasta el comienzo de la cuarentena.\n",
    "\n",
    "Hay que buscar un modelo que contemple la cuarentena"
   ]
  }
 ],
 "metadata": {
  "kernelspec": {
   "display_name": "Python 2",
   "language": "python",
   "name": "python2"
  },
  "language_info": {
   "codemirror_mode": {
    "name": "ipython",
    "version": 2
   },
   "file_extension": ".py",
   "mimetype": "text/x-python",
   "name": "python",
   "nbconvert_exporter": "python",
   "pygments_lexer": "ipython2",
   "version": "2.7.15"
  }
 },
 "nbformat": 4,
 "nbformat_minor": 2
}
